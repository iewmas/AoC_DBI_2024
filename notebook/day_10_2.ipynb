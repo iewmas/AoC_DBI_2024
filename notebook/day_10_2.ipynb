{
 "cells": [
  {
   "cell_type": "markdown",
   "metadata": {},
   "source": [
    "# AoC Day 10 part 2\n",
    "\n",
    "- https://adventofcode.com/2024/day/10\n",
    "\n",
    "- https://adventofcode.com/2024/day/10/input"
   ]
  },
  {
   "cell_type": "code",
   "execution_count": 20,
   "metadata": {},
   "outputs": [],
   "source": [
    "import networkx as nx \n",
    "from pyvis.network import Network "
   ]
  },
  {
   "cell_type": "markdown",
   "metadata": {},
   "source": [
    "## Example"
   ]
  },
  {
   "cell_type": "code",
   "execution_count": 21,
   "metadata": {},
   "outputs": [
    {
     "data": {
      "text/plain": [
       "[[8, 9, 0, 1, 0, 1, 2, 3],\n",
       " [7, 8, 1, 2, 1, 8, 7, 4],\n",
       " [8, 7, 4, 3, 0, 9, 6, 5],\n",
       " [9, 6, 5, 4, 9, 8, 7, 4],\n",
       " [4, 5, 6, 7, 8, 9, 0, 3],\n",
       " [3, 2, 0, 1, 9, 0, 1, 2],\n",
       " [0, 1, 3, 2, 9, 8, 0, 1],\n",
       " [1, 0, 4, 5, 6, 7, 3, 2]]"
      ]
     },
     "execution_count": 21,
     "metadata": {},
     "output_type": "execute_result"
    }
   ],
   "source": [
    "# Build the map \n",
    "\n",
    "island_map_input = '''\n",
    "89010123\n",
    "78121874\n",
    "87430965\n",
    "96549874\n",
    "45678903\n",
    "32019012\n",
    "01329801\n",
    "10456732\n",
    "'''\n",
    "\n",
    "island_map = [ [int(j) for j in list(i)]  for i in island_map_input.split() ]\n",
    "\n",
    "island_map"
   ]
  },
  {
   "cell_type": "code",
   "execution_count": 22,
   "metadata": {},
   "outputs": [],
   "source": [
    "# Build the graph/network\n",
    "# For each position, check 4 nearby positions: up, right, down, left (no diagnal movement)\n",
    "# - if the nearby position is next height, add as valid path to the graph\n",
    "# Also as we go through the positions, note down all the trailheads (0s) and trailtails (9s)\n",
    "\n",
    "G = nx.DiGraph()\n",
    "trailhead = list() \n",
    "trailtail = list() \n",
    "\n",
    "for x in range(len(island_map[0])):\n",
    "    for y in range(len(island_map)):\n",
    "        src_node = island_map[y][x]\n",
    "        \n",
    "        if src_node == 0: trailhead.append( (x, y) )\n",
    "        if src_node == 9: trailtail.append( (x, y) )\n",
    "        G.add_node(f'{x}_{y}', title=f'{x}_{y}', value=f'{src_node}')\n",
    "        \n",
    "        if y > 0:\n",
    "            tgt_node = island_map[y-1][x]\n",
    "            if tgt_node == src_node + 1: \n",
    "                G.add_node(f'{x}_{y-1}', title=f'{x}_{y-1}', )\n",
    "                G.add_edge(f'{x}_{y}', f'{x}_{y-1}')\n",
    "        if x < len(island_map[0])-1: \n",
    "            tgt_node = island_map[y][x+1]\n",
    "            if tgt_node == src_node + 1: \n",
    "                G.add_node(f'{x+1}_{y}', title=f'{x+1}_{y}', )\n",
    "                G.add_edge(f'{x}_{y}', f'{x+1}_{y}')\n",
    "        if y < len(island_map)-1: \n",
    "            tgt_node = island_map[y+1][x]\n",
    "            if tgt_node == src_node + 1: \n",
    "                G.add_node(f'{x}_{y+1}', title=f'{x}_{y+1}', )\n",
    "                G.add_edge(f'{x}_{y}', f'{x}_{y+1}')\n",
    "        if x > 0:\n",
    "            tgt_node = island_map[y][x-1]\n",
    "            if tgt_node == src_node + 1: \n",
    "                G.add_node(f'{x-1}_{y}', title=f'{x-1}_{y}', )\n",
    "                G.add_edge(f'{x}_{y}', f'{x-1}_{y}')\n",
    "        "
   ]
  },
  {
   "cell_type": "code",
   "execution_count": null,
   "metadata": {},
   "outputs": [
    {
     "data": {
      "text/plain": [
       "81"
      ]
     },
     "execution_count": 23,
     "metadata": {},
     "output_type": "execute_result"
    }
   ],
   "source": [
    "# 81\n",
    "\n",
    "ratings = 0\n",
    "\n",
    "for th in trailhead:\n",
    "    for tt in trailtail:\n",
    "        trails = list( nx.all_simple_paths(G, f'{th[0]}_{th[1]}', f'{tt[0]}_{tt[1]}') )\n",
    "        ratings = ratings + len(trails) \n",
    "ratings"
   ]
  },
  {
   "cell_type": "code",
   "execution_count": null,
   "metadata": {},
   "outputs": [],
   "source": []
  },
  {
   "cell_type": "markdown",
   "metadata": {},
   "source": [
    "## Input file"
   ]
  },
  {
   "cell_type": "code",
   "execution_count": 24,
   "metadata": {},
   "outputs": [],
   "source": [
    "fp = '../data/day_10_1.txt'\n",
    "\n",
    "with open(fp, 'r') as f_in:\n",
    "   island_map_input = f_in.readlines()\n",
    "\n",
    "island_map = [ [int(j) for j in list(i.strip())]  for i in island_map_input ]\n",
    "#island_map"
   ]
  },
  {
   "cell_type": "code",
   "execution_count": 25,
   "metadata": {},
   "outputs": [],
   "source": [
    "\n",
    "G = nx.DiGraph()\n",
    "trailhead = list() \n",
    "trailtail = list() \n",
    "\n",
    "for x in range(len(island_map[0])):\n",
    "    for y in range(len(island_map)):\n",
    "        src_node = island_map[y][x]\n",
    "        \n",
    "        if src_node == 0: trailhead.append( (x, y) )\n",
    "        if src_node == 9: trailtail.append( (x, y) )\n",
    "        G.add_node(f'{x}_{y}', title=f'{x}_{y}', value=f'{src_node}')\n",
    "        \n",
    "        if y > 0:\n",
    "            tgt_node = island_map[y-1][x]\n",
    "            if tgt_node == src_node + 1: \n",
    "                G.add_node(f'{x}_{y-1}', title=f'{x}_{y-1}', )\n",
    "                G.add_edge(f'{x}_{y}', f'{x}_{y-1}')\n",
    "        if x < len(island_map[0])-1: \n",
    "            tgt_node = island_map[y][x+1]\n",
    "            if tgt_node == src_node + 1: \n",
    "                G.add_node(f'{x+1}_{y}', title=f'{x+1}_{y}', )\n",
    "                G.add_edge(f'{x}_{y}', f'{x+1}_{y}')\n",
    "        if y < len(island_map)-1: \n",
    "            tgt_node = island_map[y+1][x]\n",
    "            if tgt_node == src_node + 1: \n",
    "                G.add_node(f'{x}_{y+1}', title=f'{x}_{y+1}', )\n",
    "                G.add_edge(f'{x}_{y}', f'{x}_{y+1}')\n",
    "        if x > 0:\n",
    "            tgt_node = island_map[y][x-1]\n",
    "            if tgt_node == src_node + 1: \n",
    "                G.add_node(f'{x-1}_{y}', title=f'{x-1}_{y}', )\n",
    "                G.add_edge(f'{x}_{y}', f'{x-1}_{y}')\n",
    "        "
   ]
  },
  {
   "cell_type": "code",
   "execution_count": 27,
   "metadata": {},
   "outputs": [
    {
     "data": {
      "text/plain": [
       "1366"
      ]
     },
     "execution_count": 27,
     "metadata": {},
     "output_type": "execute_result"
    }
   ],
   "source": [
    "# 1366\n",
    "\n",
    "ratings = 0\n",
    "\n",
    "for th in trailhead:\n",
    "    for tt in trailtail:\n",
    "        trails = list( nx.all_simple_paths(G, f'{th[0]}_{th[1]}', f'{tt[0]}_{tt[1]}') )\n",
    "        ratings = ratings + len(trails) \n",
    "ratings"
   ]
  },
  {
   "cell_type": "code",
   "execution_count": null,
   "metadata": {},
   "outputs": [],
   "source": []
  }
 ],
 "metadata": {
  "kernelspec": {
   "display_name": "base",
   "language": "python",
   "name": "python3"
  },
  "language_info": {
   "codemirror_mode": {
    "name": "ipython",
    "version": 3
   },
   "file_extension": ".py",
   "mimetype": "text/x-python",
   "name": "python",
   "nbconvert_exporter": "python",
   "pygments_lexer": "ipython3",
   "version": "3.11.4"
  }
 },
 "nbformat": 4,
 "nbformat_minor": 2
}
