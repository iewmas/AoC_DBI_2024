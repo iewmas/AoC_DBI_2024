{
 "cells": [
  {
   "cell_type": "markdown",
   "metadata": {},
   "source": [
    "# AoC Day 4 part 1\n",
    "\n",
    "- https://adventofcode.com/2024/day/4\n",
    "\n",
    "- https://adventofcode.com/2024/day/4/input"
   ]
  },
  {
   "cell_type": "code",
   "execution_count": 1,
   "metadata": {},
   "outputs": [],
   "source": [
    "import sys\n",
    "\n",
    "sys.path.insert(0, '../src/')\n",
    "import day_04 as d4"
   ]
  },
  {
   "cell_type": "markdown",
   "metadata": {},
   "source": [
    "## Example"
   ]
  },
  {
   "cell_type": "code",
   "execution_count": 2,
   "metadata": {},
   "outputs": [
    {
     "data": {
      "text/plain": [
       "[['M', 'M', 'M', 'S', 'X', 'X', 'M', 'A', 'S', 'M'],\n",
       " ['M', 'S', 'A', 'M', 'X', 'M', 'S', 'M', 'S', 'A'],\n",
       " ['A', 'M', 'X', 'S', 'X', 'M', 'A', 'A', 'M', 'M'],\n",
       " ['M', 'S', 'A', 'M', 'A', 'S', 'M', 'S', 'M', 'X'],\n",
       " ['X', 'M', 'A', 'S', 'A', 'M', 'X', 'A', 'M', 'M'],\n",
       " ['X', 'X', 'A', 'M', 'M', 'X', 'X', 'A', 'M', 'A'],\n",
       " ['S', 'M', 'S', 'M', 'S', 'A', 'S', 'X', 'S', 'S'],\n",
       " ['S', 'A', 'X', 'A', 'M', 'A', 'S', 'A', 'A', 'A'],\n",
       " ['M', 'A', 'M', 'M', 'M', 'X', 'M', 'M', 'M', 'M'],\n",
       " ['M', 'X', 'M', 'X', 'A', 'X', 'M', 'A', 'S', 'X']]"
      ]
     },
     "execution_count": 2,
     "metadata": {},
     "output_type": "execute_result"
    }
   ],
   "source": [
    "word = 'XMAS'\n",
    "\n",
    "# make the 2D puzzle\n",
    "puzzle = [\n",
    "    list('MMMSXXMASM'),\n",
    "    list('MSAMXMSMSA'),\n",
    "    list('AMXSXMAAMM'),\n",
    "    list('MSAMASMSMX'),\n",
    "    list('XMASAMXAMM'),\n",
    "    list('XXAMMXXAMA'),\n",
    "    list('SMSMSASXSS'),\n",
    "    list('SAXAMASAAA'),\n",
    "    list('MAMMMXMMMM'),\n",
    "    list('MXMXAXMASX'),\n",
    "]\n",
    "puzzle"
   ]
  },
  {
   "cell_type": "code",
   "execution_count": 3,
   "metadata": {},
   "outputs": [
    {
     "data": {
      "text/plain": [
       "(['X', 'M', 'A', 'S'], ['S', 'A', 'M', 'X'])"
      ]
     },
     "execution_count": 3,
     "metadata": {},
     "output_type": "execute_result"
    }
   ],
   "source": [
    "# Both XMAS and SAMX are valid, get valid words \n",
    "w1, w2 = d4.get_word_plus_reverse_as_list(word)\n",
    "w1, w2"
   ]
  },
  {
   "cell_type": "code",
   "execution_count": 4,
   "metadata": {},
   "outputs": [
    {
     "name": "stdout",
     "output_type": "stream",
     "text": [
      "line:4, column:0 - ['X', 'M', 'A', 'S']\n",
      "line:1, column:1 - ['S', 'A', 'M', 'X']\n",
      "line:4, column:3 - ['S', 'A', 'M', 'X']\n",
      "line:0, column:5 - ['X', 'M', 'A', 'S']\n",
      "line:9, column:5 - ['X', 'M', 'A', 'S']\n",
      "5\n"
     ]
    }
   ],
   "source": [
    "# Check across (Python start counting from 0)\n",
    "result_across = d4.check_across(puzzle, word, True)\n",
    "print(result_across)"
   ]
  },
  {
   "cell_type": "code",
   "execution_count": 5,
   "metadata": {},
   "outputs": [
    {
     "name": "stdout",
     "output_type": "stream",
     "text": [
      "line:1, column:6 - ['S', 'A', 'M', 'X']\n",
      "line:3, column:9 - ['X', 'M', 'A', 'S']\n",
      "line:6, column:9 - ['S', 'A', 'M', 'X']\n",
      "3\n"
     ]
    }
   ],
   "source": [
    "# Check down (Python start counting from 0)\n",
    "result_down = d4.check_down(puzzle, word, True)\n",
    "print(result_down)"
   ]
  },
  {
   "cell_type": "code",
   "execution_count": 6,
   "metadata": {},
   "outputs": [
    {
     "name": "stdout",
     "output_type": "stream",
     "text": [
      "line:6, column:0 - ['S', 'A', 'M', 'X']\n",
      "line:6, column:2 - ['S', 'A', 'M', 'X']\n",
      "line:2, column:3 - ['S', 'A', 'M', 'X']\n",
      "line:0, column:4 - ['X', 'M', 'A', 'S']\n",
      "line:6, column:6 - ['S', 'A', 'M', 'X']\n",
      "5\n"
     ]
    }
   ],
   "source": [
    "# Check down forward (Python start counting from 0)\n",
    "result_down_forward = d4.check_down_forward(puzzle, word, True)\n",
    "print(result_down_forward)"
   ]
  },
  {
   "cell_type": "code",
   "execution_count": 7,
   "metadata": {},
   "outputs": [
    {
     "name": "stdout",
     "output_type": "stream",
     "text": [
      "line:2, column:3 - ['S', 'A', 'M', 'X']\n",
      "line:6, column:4 - ['S', 'A', 'M', 'X']\n",
      "line:6, column:6 - ['S', 'A', 'M', 'X']\n",
      "line:6, column:8 - ['S', 'A', 'M', 'X']\n",
      "line:3, column:9 - ['X', 'M', 'A', 'S']\n",
      "5\n"
     ]
    }
   ],
   "source": [
    "# Check down backward (Python start counting from 0)\n",
    "result_down_backward = d4.check_down_backward(puzzle, word, True)\n",
    "print(result_down_backward)"
   ]
  },
  {
   "cell_type": "code",
   "execution_count": 8,
   "metadata": {},
   "outputs": [
    {
     "data": {
      "text/plain": [
       "18"
      ]
     },
     "execution_count": 8,
     "metadata": {},
     "output_type": "execute_result"
    }
   ],
   "source": [
    "# final answer for the example is 18\n",
    "result_across + result_down + result_down_forward + result_down_backward"
   ]
  },
  {
   "cell_type": "code",
   "execution_count": null,
   "metadata": {},
   "outputs": [],
   "source": []
  },
  {
   "cell_type": "markdown",
   "metadata": {},
   "source": [
    "## Input file"
   ]
  },
  {
   "cell_type": "code",
   "execution_count": 9,
   "metadata": {},
   "outputs": [],
   "source": [
    "word = 'XMAS'\n",
    "\n",
    "puzzle = list()\n",
    "fp = '../data/day_04_1.txt'\n",
    "\n",
    "with open(fp, 'r') as f_in:\n",
    "    for line in f_in.readlines():\n",
    "        puzzle.append(list(line.strip()))\n",
    "\n",
    "#puzzle"
   ]
  },
  {
   "cell_type": "code",
   "execution_count": 10,
   "metadata": {},
   "outputs": [
    {
     "data": {
      "text/plain": [
       "2493"
      ]
     },
     "execution_count": 10,
     "metadata": {},
     "output_type": "execute_result"
    }
   ],
   "source": [
    "d4.check_across(puzzle, word, False) + d4.check_down(puzzle, word, False) + d4.check_down_forward(puzzle, word, False) + d4.check_down_backward(puzzle, word, False)"
   ]
  },
  {
   "cell_type": "code",
   "execution_count": null,
   "metadata": {},
   "outputs": [],
   "source": []
  }
 ],
 "metadata": {
  "kernelspec": {
   "display_name": "Python 3",
   "language": "python",
   "name": "python3"
  },
  "language_info": {
   "codemirror_mode": {
    "name": "ipython",
    "version": 3
   },
   "file_extension": ".py",
   "mimetype": "text/x-python",
   "name": "python",
   "nbconvert_exporter": "python",
   "pygments_lexer": "ipython3",
   "version": "3.12.1"
  }
 },
 "nbformat": 4,
 "nbformat_minor": 2
}
