{
 "cells": [
  {
   "cell_type": "markdown",
   "metadata": {},
   "source": [
    "# AoC Day 7 part 2\n",
    "\n",
    "- https://adventofcode.com/2024/day/7\n",
    "\n",
    "- https://adventofcode.com/2024/day/7/input"
   ]
  },
  {
   "cell_type": "code",
   "execution_count": 1,
   "metadata": {},
   "outputs": [],
   "source": [
    "import sys\n",
    "\n",
    "sys.path.insert(0, '../src/')\n",
    "import day_07 as d7"
   ]
  },
  {
   "cell_type": "code",
   "execution_count": 2,
   "metadata": {},
   "outputs": [],
   "source": [
    "\n",
    "eq_input = '''\n",
    "190: 10 19\n",
    "3267: 81 40 27\n",
    "83: 17 5\n",
    "156: 15 6\n",
    "7290: 6 8 6 15\n",
    "161011: 16 10 13\n",
    "192: 17 8 14\n",
    "21037: 9 7 18 13\n",
    "292: 11 6 16 20\n",
    "'''\n"
   ]
  },
  {
   "cell_type": "code",
   "execution_count": 3,
   "metadata": {},
   "outputs": [
    {
     "data": {
      "text/plain": [
       "['190: 10 19',\n",
       " '3267: 81 40 27',\n",
       " '83: 17 5',\n",
       " '156: 15 6',\n",
       " '7290: 6 8 6 15',\n",
       " '161011: 16 10 13',\n",
       " '192: 17 8 14',\n",
       " '21037: 9 7 18 13',\n",
       " '292: 11 6 16 20']"
      ]
     },
     "execution_count": 3,
     "metadata": {},
     "output_type": "execute_result"
    }
   ],
   "source": [
    "eqs = [eq for eq in eq_input.split('\\n') if len(eq) > 0]\n",
    "eqs"
   ]
  },
  {
   "cell_type": "code",
   "execution_count": 4,
   "metadata": {},
   "outputs": [
    {
     "name": "stdout",
     "output_type": "stream",
     "text": [
      "['*']\n",
      "['||']\n"
     ]
    }
   ],
   "source": [
    "result = 0\n",
    "\n",
    "for eq in eqs:\n",
    "    v, nums = eq.split(':')\n",
    "    nums = [int(n) for n in nums.split()]\n",
    "    if d7.eval_recursive_concat(int(v), nums[1:], nums[0], [], True): result = result + int(v)\n"
   ]
  },
  {
   "cell_type": "code",
   "execution_count": 5,
   "metadata": {},
   "outputs": [
    {
     "data": {
      "text/plain": [
       "11387"
      ]
     },
     "execution_count": 5,
     "metadata": {},
     "output_type": "execute_result"
    }
   ],
   "source": [
    "result "
   ]
  },
  {
   "cell_type": "code",
   "execution_count": null,
   "metadata": {},
   "outputs": [],
   "source": []
  },
  {
   "cell_type": "markdown",
   "metadata": {},
   "source": [
    "## Input file"
   ]
  },
  {
   "cell_type": "code",
   "execution_count": 6,
   "metadata": {},
   "outputs": [],
   "source": [
    "fp = '../data/day_07_1.txt'\n",
    "\n",
    "with open(fp, 'r') as f_in:\n",
    "    eq_input = f_in.readlines()\n",
    "\n",
    "#eq_input\n",
    "\n"
   ]
  },
  {
   "cell_type": "code",
   "execution_count": 7,
   "metadata": {},
   "outputs": [
    {
     "data": {
      "text/plain": [
       "['9151: 132 1 8 714 972 5 21 1',\n",
       " '740: 136 4 40 1 85 71',\n",
       " '1959240: 61 84 4 6 563',\n",
       " '9619353: 62 7 1 9 92 19 44 17 3 4',\n",
       " '85383: 141 8 4 6 9 5 49']"
      ]
     },
     "execution_count": 7,
     "metadata": {},
     "output_type": "execute_result"
    }
   ],
   "source": [
    "eqs = [eq.strip() for eq in eq_input]\n",
    "eqs[:5]"
   ]
  },
  {
   "cell_type": "code",
   "execution_count": 8,
   "metadata": {},
   "outputs": [],
   "source": [
    "result = 0\n",
    "\n",
    "for eq in eqs:\n",
    "    v, nums = eq.split(':')\n",
    "    nums = [int(n) for n in nums.split()]\n",
    "    if d7.eval_recursive_concat(int(v), nums[1:], nums[0], []): result = result + int(v)\n",
    "    "
   ]
  },
  {
   "cell_type": "code",
   "execution_count": 9,
   "metadata": {},
   "outputs": [
    {
     "data": {
      "text/plain": [
       "500335179214836"
      ]
     },
     "execution_count": 9,
     "metadata": {},
     "output_type": "execute_result"
    }
   ],
   "source": [
    "# 500335179214836\n",
    "\n",
    "result"
   ]
  },
  {
   "cell_type": "code",
   "execution_count": null,
   "metadata": {},
   "outputs": [],
   "source": []
  }
 ],
 "metadata": {
  "kernelspec": {
   "display_name": "base",
   "language": "python",
   "name": "python3"
  },
  "language_info": {
   "codemirror_mode": {
    "name": "ipython",
    "version": 3
   },
   "file_extension": ".py",
   "mimetype": "text/x-python",
   "name": "python",
   "nbconvert_exporter": "python",
   "pygments_lexer": "ipython3",
   "version": "3.11.4"
  }
 },
 "nbformat": 4,
 "nbformat_minor": 2
}
