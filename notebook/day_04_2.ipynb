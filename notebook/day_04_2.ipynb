{
 "cells": [
  {
   "cell_type": "markdown",
   "metadata": {},
   "source": [
    "# AoC Day 4 part 2\n",
    "\n",
    "- https://adventofcode.com/2024/day/4\n",
    "\n",
    "- https://adventofcode.com/2024/day/4/input"
   ]
  },
  {
   "cell_type": "code",
   "execution_count": 1,
   "metadata": {},
   "outputs": [],
   "source": [
    "import sys\n",
    "\n",
    "sys.path.insert(0, '../src/')\n",
    "import day_04 as d4"
   ]
  },
  {
   "cell_type": "markdown",
   "metadata": {},
   "source": [
    "## Example"
   ]
  },
  {
   "cell_type": "code",
   "execution_count": 2,
   "metadata": {},
   "outputs": [
    {
     "data": {
      "text/plain": [
       "[['M', 'M', 'M', 'S', 'X', 'X', 'M', 'A', 'S', 'M'],\n",
       " ['M', 'S', 'A', 'M', 'X', 'M', 'S', 'M', 'S', 'A'],\n",
       " ['A', 'M', 'X', 'S', 'X', 'M', 'A', 'A', 'M', 'M'],\n",
       " ['M', 'S', 'A', 'M', 'A', 'S', 'M', 'S', 'M', 'X'],\n",
       " ['X', 'M', 'A', 'S', 'A', 'M', 'X', 'A', 'M', 'M'],\n",
       " ['X', 'X', 'A', 'M', 'M', 'X', 'X', 'A', 'M', 'A'],\n",
       " ['S', 'M', 'S', 'M', 'S', 'A', 'S', 'X', 'S', 'S'],\n",
       " ['S', 'A', 'X', 'A', 'M', 'A', 'S', 'A', 'A', 'A'],\n",
       " ['M', 'A', 'M', 'M', 'M', 'X', 'M', 'M', 'M', 'M'],\n",
       " ['M', 'X', 'M', 'X', 'A', 'X', 'M', 'A', 'S', 'X']]"
      ]
     },
     "execution_count": 2,
     "metadata": {},
     "output_type": "execute_result"
    }
   ],
   "source": [
    "word = 'XMAS'\n",
    "\n",
    "# make the 2D puzzle\n",
    "puzzle = [\n",
    "    list('MMMSXXMASM'),\n",
    "    list('MSAMXMSMSA'),\n",
    "    list('AMXSXMAAMM'),\n",
    "    list('MSAMASMSMX'),\n",
    "    list('XMASAMXAMM'),\n",
    "    list('XXAMMXXAMA'),\n",
    "    list('SMSMSASXSS'),\n",
    "    list('SAXAMASAAA'),\n",
    "    list('MAMMMXMMMM'),\n",
    "    list('MXMXAXMASX'),\n",
    "]\n",
    "puzzle"
   ]
  },
  {
   "cell_type": "code",
   "execution_count": 3,
   "metadata": {},
   "outputs": [],
   "source": [
    "# If we look cetre of the X-MAS, there are only 4 combinations\n",
    "''' \n",
    "M_M  M_S  S_M  S_S\n",
    "_A_  _A_  _A_  _A_\n",
    "S_S  M_S  S_M  M_M\n",
    "'''\n",
    "\n",
    "# Possible letters around \"A\" are\n",
    "# MMSS, MSMS, SMSM SSMM\n",
    "\n",
    "COMBINATIONS = [\n",
    "    ['M', 'M', 'S', 'S'],\n",
    "    ['M', 'S', 'M', 'S'],\n",
    "    ['S', 'M', 'S', 'M'],\n",
    "    ['S', 'S', 'M', 'M'],\n",
    "]\n"
   ]
  },
  {
   "cell_type": "code",
   "execution_count": 4,
   "metadata": {},
   "outputs": [
    {
     "name": "stdout",
     "output_type": "stream",
     "text": [
      "line:7, column:1 - ['S', 'S', 'M', 'M']\n",
      "line:1, column:2 - ['M', 'S', 'M', 'S']\n",
      "line:3, column:2 - ['M', 'S', 'M', 'S']\n",
      "line:7, column:3 - ['S', 'S', 'M', 'M']\n",
      "line:3, column:4 - ['S', 'M', 'S', 'M']\n",
      "line:7, column:5 - ['S', 'S', 'M', 'M']\n",
      "line:2, column:6 - ['M', 'M', 'S', 'S']\n",
      "line:2, column:7 - ['S', 'S', 'M', 'M']\n",
      "line:7, column:7 - ['S', 'S', 'M', 'M']\n"
     ]
    },
    {
     "data": {
      "text/plain": [
       "9"
      ]
     },
     "execution_count": 4,
     "metadata": {},
     "output_type": "execute_result"
    }
   ],
   "source": [
    "# final answer for the example is 9\n",
    "d4.check_x_mas(puzzle, True)"
   ]
  },
  {
   "cell_type": "code",
   "execution_count": null,
   "metadata": {},
   "outputs": [],
   "source": []
  },
  {
   "cell_type": "markdown",
   "metadata": {},
   "source": [
    "## Input file"
   ]
  },
  {
   "cell_type": "code",
   "execution_count": 5,
   "metadata": {},
   "outputs": [],
   "source": [
    "word = 'XMAS'\n",
    "\n",
    "puzzle = list()\n",
    "fp = '../data/day_04_1.txt'\n",
    "\n",
    "with open(fp, 'r') as f_in:\n",
    "    for line in f_in.readlines():\n",
    "        puzzle.append(list(line.strip()))\n",
    "\n",
    "#puzzle"
   ]
  },
  {
   "cell_type": "code",
   "execution_count": 6,
   "metadata": {},
   "outputs": [
    {
     "data": {
      "text/plain": [
       "1890"
      ]
     },
     "execution_count": 6,
     "metadata": {},
     "output_type": "execute_result"
    }
   ],
   "source": [
    "d4.check_x_mas(puzzle)"
   ]
  },
  {
   "cell_type": "code",
   "execution_count": null,
   "metadata": {},
   "outputs": [],
   "source": []
  }
 ],
 "metadata": {
  "kernelspec": {
   "display_name": "Python 3",
   "language": "python",
   "name": "python3"
  },
  "language_info": {
   "codemirror_mode": {
    "name": "ipython",
    "version": 3
   },
   "file_extension": ".py",
   "mimetype": "text/x-python",
   "name": "python",
   "nbconvert_exporter": "python",
   "pygments_lexer": "ipython3",
   "version": "3.12.1"
  }
 },
 "nbformat": 4,
 "nbformat_minor": 2
}
