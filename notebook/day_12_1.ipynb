{
 "cells": [
  {
   "cell_type": "markdown",
   "metadata": {},
   "source": [
    "# AoC Day 12 part 1\n",
    "\n",
    "- https://adventofcode.com/2024/day/12\n",
    "\n",
    "- https://adventofcode.com/2024/day/12/input"
   ]
  },
  {
   "cell_type": "code",
   "execution_count": 1,
   "metadata": {},
   "outputs": [],
   "source": [
    "import networkx as nx \n",
    "from pyvis.network import Network \n",
    "\n",
    "import sys\n",
    "sys.path.insert(0, '../src/')\n",
    "import day_12 as d12"
   ]
  },
  {
   "cell_type": "markdown",
   "metadata": {},
   "source": [
    "## Example"
   ]
  },
  {
   "cell_type": "code",
   "execution_count": 2,
   "metadata": {},
   "outputs": [
    {
     "data": {
      "text/plain": [
       "[['R', 'R', 'R', 'R', 'I', 'I', 'C', 'C', 'F', 'F'],\n",
       " ['R', 'R', 'R', 'R', 'I', 'I', 'C', 'C', 'C', 'F'],\n",
       " ['V', 'V', 'R', 'R', 'R', 'C', 'C', 'F', 'F', 'F'],\n",
       " ['V', 'V', 'R', 'C', 'C', 'C', 'J', 'F', 'F', 'F'],\n",
       " ['V', 'V', 'V', 'V', 'C', 'J', 'J', 'C', 'F', 'E'],\n",
       " ['V', 'V', 'I', 'V', 'C', 'C', 'J', 'J', 'E', 'E'],\n",
       " ['V', 'V', 'I', 'I', 'I', 'C', 'J', 'J', 'E', 'E'],\n",
       " ['M', 'I', 'I', 'I', 'I', 'I', 'J', 'J', 'E', 'E'],\n",
       " ['M', 'I', 'I', 'I', 'S', 'I', 'J', 'E', 'E', 'E'],\n",
       " ['M', 'M', 'M', 'I', 'S', 'S', 'J', 'E', 'E', 'E']]"
      ]
     },
     "execution_count": 2,
     "metadata": {},
     "output_type": "execute_result"
    }
   ],
   "source": [
    "\n",
    "garden_map_input = '''\n",
    "RRRRIICCFF\n",
    "RRRRIICCCF\n",
    "VVRRRCCFFF\n",
    "VVRCCCJFFF\n",
    "VVVVCJJCFE\n",
    "VVIVCCJJEE\n",
    "VVIIICJJEE\n",
    "MIIIIIJJEE\n",
    "MIIISIJEEE\n",
    "MMMISSJEEE\n",
    "'''\n",
    "\n",
    "garden_map = [ list(a) for a in garden_map_input.split() ]\n",
    "\n",
    "garden_map "
   ]
  },
  {
   "cell_type": "code",
   "execution_count": 3,
   "metadata": {},
   "outputs": [
    {
     "name": "stdout",
     "output_type": "stream",
     "text": [
      "{'3_2', '0_1', '4_2', '3_0', '3_1', '2_1', '1_0', '2_0', '0_0', '2_3', '2_2', '1_1'}\n",
      "{'0_6', '0_3', '1_4', '1_2', '1_5', '3_5', '2_4', '3_4', '0_2', '1_6', '1_3', '0_4', '0_5'}\n",
      "{'0_7', '1_9', '2_9', '0_9', '0_8'}\n",
      "{'3_8', '5_8', '3_6', '2_7', '1_8', '2_8', '2_5', '3_9', '4_6', '2_6', '4_7', '1_7', '3_7', '5_7'}\n",
      "{'7_0', '6_1', '5_5', '4_4', '6_2', '7_1', '3_3', '6_0', '8_1', '5_2', '4_3', '5_3', '4_5', '5_6'}\n",
      "{'5_0', '4_0', '5_1', '4_1'}\n",
      "{'4_9', '4_8', '5_9'}\n",
      "{'6_7', '6_4', '6_3', '6_5', '7_6', '7_5', '5_4', '6_9', '7_7', '6_8', '6_6'}\n",
      "{'9_1', '8_0', '7_2', '9_0', '8_2', '9_2', '8_4', '9_3', '8_3', '7_3'}\n",
      "{'7_4'}\n",
      "{'9_8', '9_6', '9_4', '8_7', '8_6', '8_5', '8_8', '9_7', '9_5', '7_9', '7_8', '9_9', '8_9'}\n"
     ]
    }
   ],
   "source": [
    "\n",
    "G = nx.Graph()\n",
    "trailhead = list() \n",
    "\n",
    "for x in range(len(garden_map[0])):\n",
    "    for y in range(len(garden_map)):\n",
    "        src_node = garden_map[y][x]\n",
    "        \n",
    "        #if src_node == 0: trailhead.append( (x, y) )\n",
    "        G.add_node(f'{x}_{y}', title=f'{x}_{y}_{src_node}', )\n",
    "        \n",
    "        if y > 0:\n",
    "            tgt_node = garden_map[y-1][x]\n",
    "            if tgt_node == src_node : \n",
    "                G.add_node(f'{x}_{y-1}', title=f'{x}_{y-1}_{tgt_node}', )\n",
    "                G.add_edge(f'{x}_{y}', f'{x}_{y-1}')\n",
    "        if x < len(garden_map[0])-1: \n",
    "            tgt_node = garden_map[y][x+1]\n",
    "            if tgt_node == src_node: \n",
    "                G.add_node(f'{x+1}_{y}', title=f'{x+1}_{y}_{tgt_node}', )\n",
    "                G.add_edge(f'{x}_{y}', f'{x+1}_{y}')\n",
    "        if y < len(garden_map)-1: \n",
    "            tgt_node = garden_map[y+1][x]\n",
    "            if tgt_node == src_node: \n",
    "                G.add_node(f'{x}_{y+1}', title=f'{x}_{y+1}_{tgt_node}', )\n",
    "                G.add_edge(f'{x}_{y}', f'{x}_{y+1}')\n",
    "        if x > 0:\n",
    "            tgt_node = garden_map[y][x-1]\n",
    "            if tgt_node == src_node: \n",
    "                G.add_node(f'{x-1}_{y}', title=f'{x-1}_{y}_{tgt_node}',)\n",
    "                G.add_edge(f'{x}_{y}', f'{x-1}_{y}')\n",
    "        \n",
    "for c in nx.connected_components(G):\n",
    "    print(c)"
   ]
  },
  {
   "cell_type": "code",
   "execution_count": 4,
   "metadata": {},
   "outputs": [
    {
     "data": {
      "text/plain": [
       "1930"
      ]
     },
     "execution_count": 4,
     "metadata": {},
     "output_type": "execute_result"
    }
   ],
   "source": [
    "\n",
    "d12.get_fence_cost(G)"
   ]
  },
  {
   "cell_type": "code",
   "execution_count": 5,
   "metadata": {},
   "outputs": [
    {
     "name": "stdout",
     "output_type": "stream",
     "text": [
      "day_12_1.html\n"
     ]
    }
   ],
   "source": [
    "nt = Network(height='1000px', width='100%', bgcolor=\"#222222\", font_color=\"white\", select_menu=True, directed=True, filter_menu=True, ) \n",
    "nt.from_nx(G)\n",
    "nt.show('day_12_1.html', notebook=False)\n"
   ]
  },
  {
   "cell_type": "code",
   "execution_count": null,
   "metadata": {},
   "outputs": [],
   "source": []
  },
  {
   "cell_type": "markdown",
   "metadata": {},
   "source": [
    "## Input file"
   ]
  },
  {
   "cell_type": "code",
   "execution_count": 6,
   "metadata": {},
   "outputs": [],
   "source": [
    "fp = '../data/day_12_1.txt'\n",
    "\n",
    "with open(fp, 'r') as f_in:\n",
    "   garden_map_input = f_in.readlines()\n",
    "\n",
    "garden_map = [ list(a.strip()) for a in garden_map_input ]\n",
    "#garden_map\n"
   ]
  },
  {
   "cell_type": "code",
   "execution_count": 7,
   "metadata": {},
   "outputs": [],
   "source": [
    "\n",
    "G = nx.Graph()\n",
    "trailhead = list() \n",
    "\n",
    "for x in range(len(garden_map[0])):\n",
    "    for y in range(len(garden_map)):\n",
    "        src_node = garden_map[y][x]\n",
    "        \n",
    "        G.add_node(f'{x}_{y}', title=f'{x}_{y}_{src_node}', )\n",
    "        \n",
    "        if y > 0:\n",
    "            tgt_node = garden_map[y-1][x]\n",
    "            if tgt_node == src_node : \n",
    "                G.add_node(f'{x}_{y-1}', title=f'{x}_{y-1}_{tgt_node}', )\n",
    "                G.add_edge(f'{x}_{y}', f'{x}_{y-1}')\n",
    "        if x < len(garden_map[0])-1: \n",
    "            tgt_node = garden_map[y][x+1]\n",
    "            if tgt_node == src_node: \n",
    "                G.add_node(f'{x+1}_{y}', title=f'{x+1}_{y}_{tgt_node}', )\n",
    "                G.add_edge(f'{x}_{y}', f'{x+1}_{y}')\n",
    "        if y < len(garden_map)-1: \n",
    "            tgt_node = garden_map[y+1][x]\n",
    "            if tgt_node == src_node: \n",
    "                G.add_node(f'{x}_{y+1}', title=f'{x}_{y+1}_{tgt_node}', )\n",
    "                G.add_edge(f'{x}_{y}', f'{x}_{y+1}')\n",
    "        if x > 0:\n",
    "            tgt_node = garden_map[y][x-1]\n",
    "            if tgt_node == src_node: \n",
    "                G.add_node(f'{x-1}_{y}', title=f'{x-1}_{y}_{tgt_node}',)\n",
    "                G.add_edge(f'{x}_{y}', f'{x-1}_{y}')\n",
    "        \n",
    "# for c in nx.connected_components(G):\n",
    "#     print(c)"
   ]
  },
  {
   "cell_type": "code",
   "execution_count": 8,
   "metadata": {},
   "outputs": [
    {
     "data": {
      "text/plain": [
       "1363484"
      ]
     },
     "execution_count": 8,
     "metadata": {},
     "output_type": "execute_result"
    }
   ],
   "source": [
    "# 1363484\n",
    "\n",
    "d12.get_fence_cost(G)"
   ]
  },
  {
   "cell_type": "code",
   "execution_count": null,
   "metadata": {},
   "outputs": [],
   "source": []
  }
 ],
 "metadata": {
  "kernelspec": {
   "display_name": "base",
   "language": "python",
   "name": "python3"
  },
  "language_info": {
   "codemirror_mode": {
    "name": "ipython",
    "version": 3
   },
   "file_extension": ".py",
   "mimetype": "text/x-python",
   "name": "python",
   "nbconvert_exporter": "python",
   "pygments_lexer": "ipython3",
   "version": "3.11.4"
  }
 },
 "nbformat": 4,
 "nbformat_minor": 2
}
