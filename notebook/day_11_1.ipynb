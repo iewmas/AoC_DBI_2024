{
 "cells": [
  {
   "cell_type": "code",
   "execution_count": null,
   "metadata": {},
   "outputs": [],
   "source": [
    "# AoC Day 11 part 1\n",
    "\n",
    "- https://adventofcode.com/2024/day/11\n",
    "\n",
    "- https://adventofcode.com/2024/day/11/input"
   ]
  },
  {
   "cell_type": "code",
   "execution_count": null,
   "metadata": {},
   "outputs": [],
   "source": []
  },
  {
   "cell_type": "code",
   "execution_count": 1,
   "metadata": {},
   "outputs": [],
   "source": [
    "from multiprocessing import Pool\n",
    "import sys\n",
    "import numpy as np\n",
    "from tqdm import tqdm\n",
    "\n",
    "sys.path.insert(0, '../src/')\n",
    "import day_11 as d11"
   ]
  },
  {
   "cell_type": "code",
   "execution_count": null,
   "metadata": {},
   "outputs": [],
   "source": [
    "def blink_n_times(num, blinks, return_len=False):\n",
    "    stones = [num] \n",
    "    \n",
    "    for blink in range(blinks):\n",
    "        stones_new = list() \n",
    "        \n",
    "        for s in stones:\n",
    "            if s == 0: \n",
    "                stones_new.append(1)\n",
    "            elif len(str(s)) % 2 == 0: \n",
    "                s_len_half = int( len(str(s))/2 )\n",
    "                s1 = str(s)[:s_len_half]\n",
    "                s2 = str(s)[s_len_half:]\n",
    "                stones_new.append( int(s1) )\n",
    "                stones_new.append( int(s2) )\n",
    "            else: \n",
    "                stones_new.append( s * 2024 )\n",
    "                \n",
    "        stones = stones_new.copy() \n",
    "        \n",
    "    if return_len: return len(stones)\n",
    "    return stones"
   ]
  },
  {
   "cell_type": "code",
   "execution_count": null,
   "metadata": {},
   "outputs": [
    {
     "data": {
      "text/plain": [
       "[125, 17]"
      ]
     },
     "execution_count": 3,
     "metadata": {},
     "output_type": "execute_result"
    }
   ],
   "source": [
    "# Get the stones\n",
    "\n",
    "stones_input = '125 17'\n",
    "\n",
    "stones = [int(s) for s in stones_input.split()]\n",
    "\n",
    "stones "
   ]
  },
  {
   "cell_type": "code",
   "execution_count": null,
   "metadata": {},
   "outputs": [
    {
     "data": {
      "text/plain": [
       "55312"
      ]
     },
     "execution_count": 4,
     "metadata": {},
     "output_type": "execute_result"
    }
   ],
   "source": [
    "# Start blinking \n",
    "\n",
    "result = 0\n",
    "\n",
    "for s in stones:\n",
    "    result = result + blink_n_times(s, 25, True)\n",
    "\n",
    "result "
   ]
  },
  {
   "cell_type": "code",
   "execution_count": null,
   "metadata": {},
   "outputs": [],
   "source": []
  },
  {
   "cell_type": "code",
   "execution_count": null,
   "metadata": {},
   "outputs": [],
   "source": [
    "## Input file"
   ]
  },
  {
   "cell_type": "code",
   "execution_count": 7,
   "metadata": {},
   "outputs": [
    {
     "data": {
      "text/plain": [
       "[965842, 9159, 3372473, 311, 0, 6, 86213, 48]"
      ]
     },
     "execution_count": 7,
     "metadata": {},
     "output_type": "execute_result"
    }
   ],
   "source": [
    "stones_input = '965842 9159 3372473 311 0 6 86213 48'\n",
    "\n",
    "stones = [int(s) for s in stones_input.split()]\n",
    "\n",
    "stones "
   ]
  },
  {
   "cell_type": "code",
   "execution_count": null,
   "metadata": {},
   "outputs": [
    {
     "data": {
      "text/plain": [
       "183435"
      ]
     },
     "execution_count": 8,
     "metadata": {},
     "output_type": "execute_result"
    }
   ],
   "source": [
    "# 183435\n",
    "\n",
    "result = 0\n",
    "\n",
    "for s in stones:\n",
    "    result = result + blink_n_times(s, 25, True)\n",
    "\n",
    "result "
   ]
  },
  {
   "cell_type": "code",
   "execution_count": null,
   "metadata": {},
   "outputs": [],
   "source": []
  },
  {
   "cell_type": "markdown",
   "metadata": {},
   "source": [
    "# AoC Day 11 part 2\n",
    "\n",
    "- https://adventofcode.com/2024/day/11\n",
    "\n",
    "- https://adventofcode.com/2024/day/11/input"
   ]
  },
  {
   "cell_type": "code",
   "execution_count": 12,
   "metadata": {},
   "outputs": [
    {
     "data": {
      "text/plain": [
       "[965842, 9159, 3372473, 311, 0, 6, 86213, 48]"
      ]
     },
     "execution_count": 12,
     "metadata": {},
     "output_type": "execute_result"
    }
   ],
   "source": [
    "stones_input = '965842 9159 3372473 311 0 6 86213 48'\n",
    "\n",
    "stones = [int(s) for s in stones_input.split()]\n",
    "\n",
    "stones "
   ]
  },
  {
   "cell_type": "code",
   "execution_count": null,
   "metadata": {},
   "outputs": [
    {
     "name": "stdout",
     "output_type": "stream",
     "text": [
      "965842\n"
     ]
    },
    {
     "name": "stderr",
     "output_type": "stream",
     "text": [
      "100%|██████████| 21030/21030 [06:13<00:00, 56.24it/s] \n"
     ]
    },
    {
     "name": "stdout",
     "output_type": "stream",
     "text": [
      "9159\n"
     ]
    },
    {
     "name": "stderr",
     "output_type": "stream",
     "text": [
      "100%|██████████| 46204/46204 [12:18<00:00, 62.58it/s]\n"
     ]
    },
    {
     "name": "stdout",
     "output_type": "stream",
     "text": [
      "3372473\n"
     ]
    },
    {
     "name": "stderr",
     "output_type": "stream",
     "text": [
      "100%|██████████| 9907/9907 [02:51<00:00, 57.76it/s]\n"
     ]
    },
    {
     "name": "stdout",
     "output_type": "stream",
     "text": [
      "311\n"
     ]
    },
    {
     "name": "stderr",
     "output_type": "stream",
     "text": [
      "100%|██████████| 14752/14752 [03:59<00:00, 61.67it/s]\n"
     ]
    },
    {
     "name": "stdout",
     "output_type": "stream",
     "text": [
      "0\n"
     ]
    },
    {
     "name": "stderr",
     "output_type": "stream",
     "text": [
      "100%|██████████| 19778/19778 [05:12<00:00, 63.19it/s]\n"
     ]
    },
    {
     "name": "stdout",
     "output_type": "stream",
     "text": [
      "6\n"
     ]
    },
    {
     "name": "stderr",
     "output_type": "stream",
     "text": [
      "100%|██████████| 25469/25469 [06:53<00:00, 61.64it/s]\n"
     ]
    },
    {
     "name": "stdout",
     "output_type": "stream",
     "text": [
      "86213\n"
     ]
    },
    {
     "name": "stderr",
     "output_type": "stream",
     "text": [
      "100%|██████████| 12320/12320 [03:20<00:00, 61.30it/s]\n"
     ]
    },
    {
     "name": "stdout",
     "output_type": "stream",
     "text": [
      "48\n"
     ]
    },
    {
     "name": "stderr",
     "output_type": "stream",
     "text": [
      "100%|██████████| 33975/33975 [09:13<00:00, 61.37it/s]\n"
     ]
    },
    {
     "data": {
      "text/plain": [
       "218279375708592"
      ]
     },
     "execution_count": 13,
     "metadata": {},
     "output_type": "execute_result"
    }
   ],
   "source": [
    "# 218279375708592\n",
    "\n",
    "result = 0\n",
    "cache = dict() \n",
    "\n",
    "for s in stones:\n",
    "    print(s) \n",
    "    s_25 = blink_n_times(s, 25,)\n",
    "    \n",
    "    for s1 in tqdm(s_25):\n",
    "        s_50 = blink_n_times(s1, 25)\n",
    "        \n",
    "        for s2 in s_50:\n",
    "            if s2 in cache: result = result + cache[s2]\n",
    "            else: \n",
    "                r = blink_n_times(s2, 25, True)\n",
    "                result = result + r\n",
    "                cache[s2] = r \n",
    "result"
   ]
  },
  {
   "cell_type": "code",
   "execution_count": null,
   "metadata": {},
   "outputs": [],
   "source": []
  }
 ],
 "metadata": {
  "kernelspec": {
   "display_name": "base",
   "language": "python",
   "name": "python3"
  },
  "language_info": {
   "codemirror_mode": {
    "name": "ipython",
    "version": 3
   },
   "file_extension": ".py",
   "mimetype": "text/x-python",
   "name": "python",
   "nbconvert_exporter": "python",
   "pygments_lexer": "ipython3",
   "version": "3.11.4"
  }
 },
 "nbformat": 4,
 "nbformat_minor": 2
}
