{
 "cells": [
  {
   "cell_type": "markdown",
   "metadata": {},
   "source": [
    "# AoC Day 6 part 2\n",
    "\n",
    "- https://adventofcode.com/2024/day/6\n",
    "\n",
    "- https://adventofcode.com/2024/day/6/input"
   ]
  },
  {
   "cell_type": "code",
   "execution_count": 1,
   "metadata": {},
   "outputs": [
    {
     "name": "stdout",
     "output_type": "stream",
     "text": [
      "Requirement already satisfied: tqdm in /usr/local/python/3.12.1/lib/python3.12/site-packages (4.67.1)\n",
      "\n",
      "\u001b[1m[\u001b[0m\u001b[34;49mnotice\u001b[0m\u001b[1;39;49m]\u001b[0m\u001b[39;49m A new release of pip is available: \u001b[0m\u001b[31;49m24.2\u001b[0m\u001b[39;49m -> \u001b[0m\u001b[32;49m24.3.1\u001b[0m\n",
      "\u001b[1m[\u001b[0m\u001b[34;49mnotice\u001b[0m\u001b[1;39;49m]\u001b[0m\u001b[39;49m To update, run: \u001b[0m\u001b[32;49mpython3 -m pip install --upgrade pip\u001b[0m\n"
     ]
    }
   ],
   "source": [
    "!pip install tqdm"
   ]
  },
  {
   "cell_type": "code",
   "execution_count": 2,
   "metadata": {},
   "outputs": [],
   "source": [
    "import sys\n",
    "\n",
    "sys.path.insert(0, '../src/')\n",
    "import day_06 as d6"
   ]
  },
  {
   "cell_type": "code",
   "execution_count": 3,
   "metadata": {},
   "outputs": [
    {
     "name": "stdout",
     "output_type": "stream",
     "text": [
      "....#.....\n",
      ".........#\n",
      "..........\n",
      "..#.......\n",
      ".......#..\n",
      "..........\n",
      ".#..^.....\n",
      "........#.\n",
      "#.........\n",
      "......#...\n"
     ]
    }
   ],
   "source": [
    "# make the 2D map\n",
    "lab_map_input = [\n",
    "    list('....#.....'),\n",
    "    list('.........#'),\n",
    "    list('..........'),\n",
    "    list('..#.......'),\n",
    "    list('.......#..'),\n",
    "    list('..........'),\n",
    "    list('.#..^.....'),\n",
    "    list('........#.'),\n",
    "    list('#.........'),\n",
    "    list('......#...'),\n",
    "]\n",
    "\n",
    "lab_map = d6.Map(lab_map_input)\n",
    "\n",
    "lab_map.print_map() "
   ]
  },
  {
   "cell_type": "code",
   "execution_count": 4,
   "metadata": {},
   "outputs": [],
   "source": [
    "# Explore each position on the map to put the new obstacle \n",
    "# AND Recoard the results Explored positions (exit map or loop) \n",
    "# - while explore each position, check if we've checked it before (previous map position and guard direction), and stop early (prune search space)\n",
    "# - at each move, check for end scenario (exit map or loop via loop detection)"
   ]
  },
  {
   "cell_type": "code",
   "execution_count": 5,
   "metadata": {},
   "outputs": [],
   "source": [
    "import networkx as nx\n",
    "from tqdm import tqdm\n",
    "\n",
    "def code_guard_idx(pos, guard):\n",
    "    x = pos['x']\n",
    "    y = pos['y']\n",
    "    return f'{x}_{y}_{guard}'\n",
    "\n",
    "def code_guard_node(pos,):\n",
    "    x = pos['x']\n",
    "    y = pos['y']\n",
    "    return f'{x}_{y}'\n",
    "\n",
    "def is_deja_vu(pos, guard, prev_pos):\n",
    "    for p, g in prev_pos:\n",
    "        if p == pos and g == guard: return True \n",
    "        \n",
    "    return False\n",
    "\n",
    "def task(x, y, lab_map):\n",
    "    print('TASK:', x, y)\n",
    "    lab_map.map[y][x] = lab_map.OBSTACLE_NEW\n",
    "    #lab_map.map[6][3] = lab_map.OBSTACLE_NEW\n",
    "    #lab_map.map[8][1] = lab_map.OBSTACLE_NEW\n",
    "    #lab_map.map[6][4] = lab_map.OBSTACLE_NEW\n",
    "    #lab_map.print_map() \n",
    "\n",
    "    flag = lab_map.IN_AREA\n",
    "    positions = [ (lab_map.guard_pos, lab_map.get_guard()) ]\n",
    "    G = nx.DiGraph()\n",
    "\n",
    "    while flag == lab_map.IN_AREA:\n",
    "        from_node = code_guard_node(lab_map.guard_pos)\n",
    "        flag = lab_map.do_one_move()\n",
    "        to_node = code_guard_node(lab_map.guard_pos)\n",
    "\n",
    "        positions.append( (lab_map.guard_pos, lab_map.get_guard()) )\n",
    "        if from_node != to_node: G.add_edge(from_node, to_node)\n",
    "        \n",
    "        try:\n",
    "            nx.find_cycle(G, code_guard_node(lab_map.guard_start_pos))\n",
    "            pos, guard = positions[0]\n",
    "            #print('LOOP:', pos, guard, lab_map.guard_pos, lab_map.get_guard() )\n",
    "            #if lab_map.guard_pos == pos and lab_map.get_guard() == guard:\n",
    "            if is_deja_vu(lab_map.guard_pos, lab_map.get_guard(), positions[:-1]):\n",
    "                flag = lab_map.LOOP_DETECTED\n",
    "                #obstacle_cause_loop.append( (x, y) )\n",
    "        except nx.NetworkXNoCycle:\n",
    "            True\n",
    "        #break \n",
    "        \n",
    "        print(x, y, flag, ' || ',end='')\n",
    "        if flag == lab_map.LOOP_DETECTED: return (x, y)\n",
    "        return None \n",
    "\n",
    "    # if flag == lab_map.LEFT_AREA:\n",
    "    #     for pos, guard in positions: \n",
    "    #         idx = code_guard_idx(pos, guard)\n",
    "    #         if guard in lab_map.GUARD_DIRS and idx not in pos_lead_to_exit: pos_lead_to_exit[idx] = 1\n",
    "            "
   ]
  },
  {
   "cell_type": "code",
   "execution_count": 18,
   "metadata": {},
   "outputs": [
    {
     "name": "stdout",
     "output_type": "stream",
     "text": [
      "TASK: 1 8\n",
      "1 8 1  || "
     ]
    }
   ],
   "source": [
    "from multiprocessing.pool import ThreadPool\n",
    "\n",
    "# with ThreadPool(2) as pool:\n",
    "#     results = pool.map_async(task, [(0, 0, d6.Map(lab_map_input))] )\n",
    "pool = ThreadPool(2)\n",
    "results = [ pool.apply_async(task, args=(x, y, d6.Map(lab_map_input) ) ) for x in [1] for y in [8] ]\n"
   ]
  },
  {
   "cell_type": "code",
   "execution_count": 19,
   "metadata": {},
   "outputs": [
    {
     "data": {
      "text/plain": [
       "[None]"
      ]
     },
     "execution_count": 19,
     "metadata": {},
     "output_type": "execute_result"
    }
   ],
   "source": [
    "[ar.get() for ar in results]\n",
    "#results.get() "
   ]
  },
  {
   "cell_type": "code",
   "execution_count": null,
   "metadata": {},
   "outputs": [
    {
     "ename": "NameError",
     "evalue": "name 'adsf' is not defined",
     "output_type": "error",
     "traceback": [
      "\u001b[0;31m---------------------------------------------------------------------------\u001b[0m",
      "\u001b[0;31mNameError\u001b[0m                                 Traceback (most recent call last)",
      "Cell \u001b[0;32mIn[7], line 1\u001b[0m\n\u001b[0;32m----> 1\u001b[0m \u001b[43madsf\u001b[49m\n",
      "\u001b[0;31mNameError\u001b[0m: name 'adsf' is not defined"
     ]
    }
   ],
   "source": [
    "adsf"
   ]
  },
  {
   "cell_type": "code",
   "execution_count": null,
   "metadata": {},
   "outputs": [
    {
     "name": "stderr",
     "output_type": "stream",
     "text": [
      "  0%|          | 0/10 [00:00<?, ?it/s]"
     ]
    },
    {
     "name": "stdout",
     "output_type": "stream",
     "text": [
      "0 0 0  || 0 1 0  || 0 2 0  || "
     ]
    },
    {
     "name": "stderr",
     "output_type": "stream",
     "text": [
      " 20%|██        | 2/10 [00:00<00:00, 19.62it/s]"
     ]
    },
    {
     "name": "stdout",
     "output_type": "stream",
     "text": [
      "0 3 0  || 0 4 0  || 0 5 0  || 0 6 0  || 0 7 0  || 0 8 0  || 0 9 0  || 1 0 0  || 1 1 0  || 1 2 0  || 1 3 0  || 1 4 0  || 1 5 0  || 1 6 0  || 1 7 0  || 1 8 2  || 1 9 0  || 2 0 0  || 2 1 0  || 2 2 0  || 2 3 0  || 2 4 0  || 2 5 0  || 2 6 0  || 2 7 0  || 2 8 0  || 2 9 0  || 3 0 0  || 3 1 0  || 3 2 0  || 3 3 0  || 3 4 0  || 3 5 0  || 3 6 2  || 3 7 0  || 3 8 2  || 3 9 0  || 4 0 0  || 4 1 0  || 4 2 0  || 4 3 0  || 4 4 0  || 4 5 0  || 4 7 0  || 4 8 0  || 4 9 0  || 5 0 0  || 5 1 0  || 5 2 0  || 5 3 0  || 5 4 0  || "
     ]
    },
    {
     "name": "stderr",
     "output_type": "stream",
     "text": [
      " 60%|██████    | 6/10 [00:00<00:00, 26.98it/s]"
     ]
    },
    {
     "name": "stdout",
     "output_type": "stream",
     "text": [
      "5 5 0  || 5 6 0  || 5 7 0  || 5 8 0  || 5 9 0  || 6 0 0  || 6 1 0  || "
     ]
    },
    {
     "name": "stderr",
     "output_type": "stream",
     "text": [
      "100%|██████████| 10/10 [00:00<00:00, 27.50it/s]"
     ]
    },
    {
     "name": "stdout",
     "output_type": "stream",
     "text": [
      "6 2 0  || 6 3 0  || 6 4 0  || 6 5 0  || 6 6 0  || 6 7 2  || 6 8 0  || 6 9 0  || 7 0 0  || 7 1 0  || 7 2 0  || 7 3 0  || 7 4 0  || 7 5 0  || 7 6 0  || 7 7 2  || 7 8 0  || 7 9 2  || 8 0 0  || 8 1 0  || 8 2 0  || 8 3 0  || 8 4 0  || 8 5 0  || 8 6 0  || 8 7 0  || 8 8 0  || 8 9 0  || 9 0 0  || 9 1 0  || 9 2 0  || 9 3 0  || 9 4 0  || 9 5 0  || 9 6 0  || 9 7 0  || 9 8 0  || 9 9 0  || "
     ]
    },
    {
     "name": "stderr",
     "output_type": "stream",
     "text": [
      "100%|██████████| 10/10 [00:00<00:00, 26.67it/s]\n"
     ]
    }
   ],
   "source": [
    "Xs = range(len(lab_map.map))\n",
    "Ys = range(len(lab_map.map[0]))\n",
    "\n",
    "pos_lead_to_exit = dict() \n",
    "pos_lead_to_loop = dict() \n",
    "\n",
    "obstacle_cause_loop = list() \n",
    "\n",
    "for x in tqdm(Xs):\n",
    "    for y in Ys:\n",
    "        \n",
    "\n",
    "        lab_map = d6.Map(lab_map_input)\n",
    "        if {'x': x, 'y': y} == lab_map.guard_pos: continue\n",
    "            # flag = lab_map.LEFT_AREA\n",
    "            # continue \n",
    "\n",
    "        lab_map.map[y][x] = lab_map.OBSTACLE_NEW\n",
    "        #lab_map.map[6][3] = lab_map.OBSTACLE_NEW\n",
    "        #lab_map.map[8][1] = lab_map.OBSTACLE_NEW\n",
    "        #lab_map.map[6][4] = lab_map.OBSTACLE_NEW\n",
    "        #lab_map.print_map() \n",
    "\n",
    "        flag = lab_map.IN_AREA\n",
    "        positions = [ (lab_map.guard_pos, lab_map.get_guard()) ]\n",
    "        G = nx.DiGraph()\n",
    "\n",
    "        while flag == lab_map.IN_AREA:\n",
    "            from_node = code_guard_node(lab_map.guard_pos)\n",
    "            flag = lab_map.do_one_move()\n",
    "            to_node = code_guard_node(lab_map.guard_pos)\n",
    "\n",
    "            positions.append( (lab_map.guard_pos, lab_map.get_guard()) )\n",
    "            if from_node != to_node: G.add_edge(from_node, to_node)\n",
    "            \n",
    "            try:\n",
    "                nx.find_cycle(G, code_guard_node(lab_map.guard_start_pos))\n",
    "                pos, guard = positions[0]\n",
    "                #print('LOOP:', pos, guard, lab_map.guard_pos, lab_map.get_guard() )\n",
    "                #if lab_map.guard_pos == pos and lab_map.get_guard() == guard:\n",
    "                if is_deja_vu(lab_map.guard_pos, lab_map.get_guard(), positions[:-1]):\n",
    "                    flag = lab_map.LOOP_DETECTED\n",
    "                    obstacle_cause_loop.append( (x, y) )\n",
    "            except nx.NetworkXNoCycle:\n",
    "                True\n",
    "            #break \n",
    "        print(x, y, flag, ' || ',end='')\n",
    "\n",
    "        if flag == lab_map.LEFT_AREA:\n",
    "            for pos, guard in positions: \n",
    "                idx = code_guard_idx(pos, guard)\n",
    "                if guard in lab_map.GUARD_DIRS and idx not in pos_lead_to_exit: pos_lead_to_exit[idx] = 1\n",
    "        #break \n",
    "    #break \n",
    "                  "
   ]
  },
  {
   "cell_type": "code",
   "execution_count": null,
   "metadata": {},
   "outputs": [
    {
     "data": {
      "text/plain": [
       "[(1, 8), (3, 6), (3, 8), (6, 7), (7, 7), (7, 9)]"
      ]
     },
     "execution_count": 23,
     "metadata": {},
     "output_type": "execute_result"
    }
   ],
   "source": [
    "positions\n",
    "pos_lead_to_exit\n",
    "len(positions)\n",
    "G.edges() \n",
    "lab_map_input\n",
    "# [(1, 8), (3, 6), (3, 8), (6, 7), (7, 7), (7, 9)]\n",
    "\n",
    "obstacle_cause_loop"
   ]
  },
  {
   "cell_type": "code",
   "execution_count": null,
   "metadata": {},
   "outputs": [
    {
     "data": {
      "text/plain": [
       "-1"
      ]
     },
     "execution_count": 24,
     "metadata": {},
     "output_type": "execute_result"
    }
   ],
   "source": [
    "{'x':-1, 'y':-1}['x']"
   ]
  },
  {
   "cell_type": "code",
   "execution_count": null,
   "metadata": {},
   "outputs": [],
   "source": [
    "\n",
    "\n",
    "lab_map_input = list()\n",
    "fp = '../data/day_06_1.txt'\n",
    "\n",
    "with open(fp, 'r') as f_in:\n",
    "    for line in f_in.readlines():\n",
    "        lab_map_input.append(list(line.strip()))\n",
    "\n",
    "lab_map = d6.Map(lab_map_input)\n"
   ]
  },
  {
   "cell_type": "code",
   "execution_count": null,
   "metadata": {},
   "outputs": [
    {
     "name": "stderr",
     "output_type": "stream",
     "text": [
      "  0%|          | 0/130 [00:00<?, ?it/s]"
     ]
    },
    {
     "name": "stdout",
     "output_type": "stream",
     "text": [
      "0 0 0  || 0 1 0  || 0 2 0  || 0 3 0  || 0 4 0  || 0 5 0  || 0 6 0  || 0 7 0  || 0 8 0  || 0 9 0  || 0 10 0  || 0 11 0  || "
     ]
    },
    {
     "name": "stderr",
     "output_type": "stream",
     "text": [
      "Exception ignored in: <bound method IPythonKernel._clean_thread_parent_frames of <ipykernel.ipkernel.IPythonKernel object at 0x7aecfea5c770>>\n",
      "Traceback (most recent call last):\n",
      "  File \"/home/codespace/.local/lib/python3.12/site-packages/ipykernel/ipkernel.py\", line 775, in _clean_thread_parent_frames\n",
      "    def _clean_thread_parent_frames(\n",
      "\n",
      "KeyboardInterrupt: \n"
     ]
    },
    {
     "name": "stdout",
     "output_type": "stream",
     "text": [
      "0 12 0  || 0 13 0  || 0 14 0  || 0 15 0  || 0 16 0  || 0 17 0  || 0 18 0  || 0 19 0  || 0 20 0  || 0 21 0  || 0 22 0  || 0 23 0  || 0 24 0  || 0 25 0  || 0 26 0  || 0 27 0  || 0 28 0  || 0 29 2  || 0 30 0  || 0 31 0  || 0 32 0  || 0 33 0  || 0 34 0  || 0 35 0  || 0 36 0  || 0 37 0  || 0 38 0  || 0 39 0  || 0 40 0  || 0 41 0  || 0 42 0  || 0 43 0  || 0 44 0  || 0 45 0  || 0 46 0  || 0 47 0  || 0 48 0  || 0 49 0  || 0 50 0  || 0 51 0  || 0 52 0  || 0 53 0  || 0 54 0  || 0 55 0  || 0 56 0  || 0 57 0  || 0 58 0  || 0 59 0  || "
     ]
    }
   ],
   "source": [
    "Xs = range(len(lab_map.map))\n",
    "Ys = range(len(lab_map.map[0]))\n",
    "\n",
    "pos_lead_to_exit = dict() \n",
    "pos_lead_to_loop = dict() \n",
    "\n",
    "obstacle_cause_loop = list() \n",
    "\n",
    "for x in tqdm(Xs):\n",
    "    for y in Ys:\n",
    "        \n",
    "\n",
    "        lab_map = d6.Map(lab_map_input)\n",
    "        if {'x': x, 'y': y} == lab_map.guard_pos: continue\n",
    "            # flag = lab_map.LEFT_AREA\n",
    "            # continue \n",
    "\n",
    "        lab_map.map[y][x] = lab_map.OBSTACLE_NEW\n",
    "        #lab_map.map[6][3] = lab_map.OBSTACLE_NEW\n",
    "        #lab_map.map[8][1] = lab_map.OBSTACLE_NEW\n",
    "        #lab_map.map[6][4] = lab_map.OBSTACLE_NEW\n",
    "        #lab_map.print_map() \n",
    "\n",
    "        flag = lab_map.IN_AREA\n",
    "        positions = [ (lab_map.guard_pos, lab_map.get_guard()) ]\n",
    "        G = nx.DiGraph()\n",
    "\n",
    "        while flag == lab_map.IN_AREA:\n",
    "            from_node = code_guard_node(lab_map.guard_pos)\n",
    "            flag = lab_map.do_one_move()\n",
    "            to_node = code_guard_node(lab_map.guard_pos)\n",
    "\n",
    "            positions.append( (lab_map.guard_pos, lab_map.get_guard()) )\n",
    "            if from_node != to_node: G.add_edge(from_node, to_node)\n",
    "            \n",
    "            try:\n",
    "                nx.find_cycle(G, code_guard_node(lab_map.guard_start_pos))\n",
    "                pos, guard = positions[0]\n",
    "                #print('LOOP:', pos, guard, lab_map.guard_pos, lab_map.get_guard() )\n",
    "                #if lab_map.guard_pos == pos and lab_map.get_guard() == guard:\n",
    "                if is_deja_vu(lab_map.guard_pos, lab_map.get_guard(), positions[:-1]):\n",
    "                    flag = lab_map.LOOP_DETECTED\n",
    "                    obstacle_cause_loop.append( (x, y) )\n",
    "            except nx.NetworkXNoCycle:\n",
    "                True\n",
    "            #break \n",
    "        print(x, y, flag, ' || ',end='')\n",
    "\n",
    "        if flag == lab_map.LEFT_AREA:\n",
    "            for pos, guard in positions: \n",
    "                idx = code_guard_idx(pos, guard)\n",
    "                if guard in lab_map.GUARD_DIRS and idx not in pos_lead_to_exit: pos_lead_to_exit[idx] = 1\n",
    "        #break \n",
    "    #break \n",
    "                  "
   ]
  },
  {
   "cell_type": "code",
   "execution_count": null,
   "metadata": {},
   "outputs": [],
   "source": [
    "obstacle_cause_loop\n"
   ]
  }
 ],
 "metadata": {
  "kernelspec": {
   "display_name": "Python 3",
   "language": "python",
   "name": "python3"
  },
  "language_info": {
   "codemirror_mode": {
    "name": "ipython",
    "version": 3
   },
   "file_extension": ".py",
   "mimetype": "text/x-python",
   "name": "python",
   "nbconvert_exporter": "python",
   "pygments_lexer": "ipython3",
   "version": "3.12.1"
  }
 },
 "nbformat": 4,
 "nbformat_minor": 2
}
